{
  "nbformat": 4,
  "nbformat_minor": 0,
  "metadata": {
    "colab": {
      "provenance": [],
      "authorship_tag": "ABX9TyN44eOh2VuTlyMjvCiQ59sr",
      "include_colab_link": true
    },
    "kernelspec": {
      "name": "python3",
      "display_name": "Python 3"
    },
    "language_info": {
      "name": "python"
    }
  },
  "cells": [
    {
      "cell_type": "markdown",
      "metadata": {
        "id": "view-in-github",
        "colab_type": "text"
      },
      "source": [
        "<a href=\"https://colab.research.google.com/github/ChinmayKumarT/games/blob/main/Crack_the_code_game.ipynb\" target=\"_parent\"><img src=\"https://colab.research.google.com/assets/colab-badge.svg\" alt=\"Open In Colab\"/></a>"
      ]
    },
    {
      "cell_type": "code",
      "execution_count": null,
      "metadata": {
        "colab": {
          "base_uri": "https://localhost:8080/"
        },
        "id": "jINf8dvRs6u6",
        "outputId": "1918bc75-0457-4bac-dda9-075a700d5484"
      },
      "outputs": [
        {
          "output_type": "stream",
          "name": "stdout",
          "text": [
            "secerate code is generated : \n",
            "Enter your 4-digit guess: 4567\n",
            " correct position 0\n",
            " partial position 3\n",
            " remaining attempts : 9\n",
            "Enter your 4-digit guess: 4568\n",
            " correct position 0\n",
            " partial position 2\n",
            " remaining attempts : 8\n",
            "Enter your 4-digit guess: 4578\n",
            " correct position 0\n",
            " partial position 2\n",
            " remaining attempts : 7\n",
            "Enter your 4-digit guess: 4769\n",
            " correct position 1\n",
            " partial position 2\n",
            " remaining attempts : 6\n",
            "Enter your 4-digit guess: 4671\n",
            " correct position 1\n",
            " partial position 3\n",
            " remaining attempts : 5\n",
            "Enter your 4-digit guess: 4671\n",
            " correct position 1\n",
            " partial position 3\n",
            " remaining attempts : 4\n",
            "Enter your 4-digit guess: 4167\n",
            " correct position 0\n",
            " partial position 4\n",
            " remaining attempts : 3\n",
            "Enter your 4-digit guess: 1647\n",
            " correct position 1\n",
            " partial position 3\n",
            " remaining attempts : 2\n",
            "Enter your 4-digit guess: 1467\n",
            " correct position 0\n",
            " partial position 4\n",
            " remaining attempts : 1\n",
            "Enter your 4-digit guess: 1674\n",
            " correct position 0\n",
            " partial position 4\n",
            " remaining attempts : 0\n",
            "you lost \n"
          ]
        }
      ],
      "source": [
        "import random\n",
        "\n",
        "# rules\n",
        "digits = \"1234567890\"\n",
        "max_attemps = 10\n",
        "00\n",
        "code_len = 4\n",
        "allow_repeats = True\n",
        "\n",
        "\n",
        "class Game:\n",
        "\n",
        "\n",
        "\n",
        "  def gen_code(self,digits , code_len , allow_repeats):\n",
        "    if allow_repeats:\n",
        "      return \"\".join(random.choices(digits , k=code_len))\n",
        "    return \"\".join(random.sample(digits , code_len))\n",
        "\n",
        "\n",
        "  def guess(self, digits, code_len):\n",
        "      while True:\n",
        "          guess = input(f\"Enter your {code_len}-digit guess: \")\n",
        "          if len(guess) == code_len and all(i in digits for i in guess):\n",
        "              return guess\n",
        "          else:\n",
        "              print(\"Invalid input. Try again.\")\n",
        "\n",
        "\n",
        "\n",
        "\n",
        "\n",
        "  def feedback(self , gen_code , guess ):\n",
        "    correct =sum(1 for i in range(len(guess)) if guess[i] == gen_code[i])\n",
        "    partial =sum(min(guess.count(digit),gen_code.count(digit)) for digit in set(guess)) - correct\n",
        "    return correct , partial\n",
        "\n",
        "\n",
        "\n",
        "if __name__ == '__main__':\n",
        "  g = Game()\n",
        "  gen_code = g.gen_code(digits , code_len , allow_repeats)\n",
        "  print(\"secerate code is generated : \")\n",
        "\n",
        "  attempts = max_attemps\n",
        "  while attempts > 0:\n",
        "    guess = g.guess(digits,code_len)\n",
        "    correct , partial = g.feedback(gen_code , guess)\n",
        "    print(f\" correct position {correct }\")\n",
        "    print(f\" partial position {partial }\")\n",
        "\n",
        "    if correct == code_len:\n",
        "      print(\" correct guess you win \")\n",
        "      break\n",
        "\n",
        "\n",
        "    attempts -= 1\n",
        "    print(f\" remaining attempts : {attempts}\")\n",
        "\n",
        "\n",
        "  else :\n",
        "    print(\"you lost \")\n",
        "\n"
      ]
    },
    {
      "cell_type": "code",
      "source": [],
      "metadata": {
        "id": "qBBXgLeUBd20"
      },
      "execution_count": null,
      "outputs": []
    }
  ]
}